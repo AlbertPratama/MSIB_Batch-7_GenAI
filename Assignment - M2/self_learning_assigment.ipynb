{
 "cells": [
  {
   "cell_type": "markdown",
   "metadata": {},
   "source": [
    "### `Exercise 1: Variabel dan Tipe` "
   ]
  },
  {
   "cell_type": "markdown",
   "metadata": {},
   "source": [
    "DataBuat variabel dengan nama, umur, dan berat. Isikan variabel tersebut dengan nilai yang sesuai (string untuk nama, integer untuk umur, dan float untuk berat). Tampilkan hasilnya."
   ]
  },
  {
   "cell_type": "code",
   "execution_count": 1,
   "metadata": {},
   "outputs": [
    {
     "name": "stdout",
     "output_type": "stream",
     "text": [
      "Nama:  Albert Putra Pratama Halawa\n",
      "Umur:  19\n",
      "Berat:  65.7\n"
     ]
    }
   ],
   "source": [
    "nama = str('Albert Putra Pratama Halawa')\n",
    "umur = int(19)\n",
    "berat = float(65.7)\n",
    "\n",
    "print('Nama: ', nama)\n",
    "print('Umur: ', umur)\n",
    "print('Berat: ', berat)"
   ]
  },
  {
   "cell_type": "markdown",
   "metadata": {},
   "source": [
    "### `Exercise 2: Operasi Matematika`"
   ]
  },
  {
   "cell_type": "markdown",
   "metadata": {},
   "source": [
    "Buat sebuah program yang meminta pengguna memasukkan dua bilangan bulat. Hitung dan tampilkan hasil penjumlahan, pengurangan, perkalian, pembagian, dan sisa bagi dari kedua bilangan tersebut"
   ]
  },
  {
   "cell_type": "code",
   "execution_count": 2,
   "metadata": {},
   "outputs": [
    {
     "name": "stdout",
     "output_type": "stream",
     "text": [
      "Penjumlahan:  5\n",
      "Pengurangan:  -1\n",
      "Perkalian:  6\n",
      "Pembagian:  0.6666666666666666\n",
      "Sisa bagi 2\n"
     ]
    }
   ],
   "source": [
    "n_1 = int(input('Bilangan bulat pertama: '))\n",
    "n_2 = int(input('Bilangan bualt ke-dua: '))\n",
    "\n",
    "add = n_1+n_2\n",
    "sub = n_1-n_2\n",
    "mul = n_1*n_2\n",
    "div = n_1/n_2\n",
    "mod = n_1 % n_2\n",
    "\n",
    "print('Penjumlahan: ', add)\n",
    "print('Pengurangan: ', sub)\n",
    "print('Perkalian: ', mul)\n",
    "print('Pembagian: ', div)\n",
    "print('Sisa bagi', mod)"
   ]
  },
  {
   "cell_type": "markdown",
   "metadata": {},
   "source": [
    "### `Exercise 3: Penggunaan Kondisi (if, elif, else)`"
   ]
  },
  {
   "cell_type": "markdown",
   "metadata": {},
   "source": [
    "Buat sebuah program yang meminta pengguna memasukkan nilai ujian. \n",
    "- Jika nilai lebih dari atau sama dengan 90, tampilkan \"A\". \n",
    "- Jika nilainya antara 80 dan 89, tampilkan \"B\". \n",
    "- Jika nilainya antara 70 dan 79, tampilkan \"C\". \n",
    "- Jika nilainya antara 60 dan 69, tampilkan \"D\". \n",
    "- Jika nilainya kurang dari 60, tampilkan \"F\"6\n"
   ]
  },
  {
   "cell_type": "code",
   "execution_count": 3,
   "metadata": {},
   "outputs": [
    {
     "name": "stdout",
     "output_type": "stream",
     "text": [
      "Your grade is A\n"
     ]
    }
   ],
   "source": [
    "mark_exam = int(input('Input yout mark: '))\n",
    "\n",
    "if mark_exam >= 90:\n",
    "    print('Your grade is A')\n",
    "elif mark_exam >= 80 and mark_exam < 90:\n",
    "    print('Your grade is B')\n",
    "elif mark_exam >= 70 and mark_exam < 80:\n",
    "    print('Your grade is C')\n",
    "elif mark_exam >= 60 and mark_exam < 70:\n",
    "    print('Your greade is D')\n",
    "else:\n",
    "    print('Your grade is F')"
   ]
  },
  {
   "cell_type": "markdown",
   "metadata": {},
   "source": [
    "### `Exercise 4: Perulangan (for dan while)`\n"
   ]
  },
  {
   "cell_type": "markdown",
   "metadata": {},
   "source": [
    "1. Buat program yang meminta pengguna memasukkan sebuah angka, lalu cetak semua angka dari 1 hingga angka tersebut menggunakan perulangan for.\n",
    "\n",
    "2. Buat program yang meminta pengguna memasukkan sebuah angka, lalu cetak semua angka dari 1 hingga angka tersebut menggunakan perulangan while."
   ]
  },
  {
   "cell_type": "markdown",
   "metadata": {},
   "source": [
    "#### `Use For`"
   ]
  },
  {
   "cell_type": "code",
   "execution_count": 4,
   "metadata": {},
   "outputs": [
    {
     "name": "stdout",
     "output_type": "stream",
     "text": [
      "1\n",
      "2\n",
      "3\n",
      "4\n"
     ]
    }
   ],
   "source": [
    "N_for_loop = int(input('Input random integers: '))\n",
    "\n",
    "for num in range(1, N_for_loop+1):\n",
    "  print(num)"
   ]
  },
  {
   "cell_type": "markdown",
   "metadata": {},
   "source": [
    "#### `Use While`"
   ]
  },
  {
   "cell_type": "code",
   "execution_count": 5,
   "metadata": {},
   "outputs": [
    {
     "name": "stdout",
     "output_type": "stream",
     "text": [
      "1\n",
      "2\n",
      "3\n",
      "4\n"
     ]
    }
   ],
   "source": [
    "N_while_loop = int(input('input random integer: '))\n",
    "res = 1\n",
    "while res <= N_while_loop:\n",
    "  print(res)\n",
    "  res += 1"
   ]
  },
  {
   "cell_type": "markdown",
   "metadata": {},
   "source": [
    "### `Exercise 5: Fungsi`"
   ]
  },
  {
   "cell_type": "markdown",
   "metadata": {},
   "source": [
    "Buat sebuah fungsi bernama faktorial(n) yang menerima satu argumen berupa bilangan bulat n dan mengembalikan faktorial dari n. Contoh, output untuk faktorial(5) adalah 120."
   ]
  },
  {
   "cell_type": "code",
   "execution_count": 6,
   "metadata": {},
   "outputs": [
    {
     "name": "stdout",
     "output_type": "stream",
     "text": [
      "720\n"
     ]
    }
   ],
   "source": [
    "def fact(n):\n",
    "  if n == 1 or n == 0:\n",
    "    return 1\n",
    "  else:\n",
    "    return(n*fact(n-1))\n",
    "\n",
    "n_fact = int(input('Input number: '))\n",
    "res = fact(n_fact)\n",
    "print(res)"
   ]
  },
  {
   "cell_type": "markdown",
   "metadata": {},
   "source": [
    "### `Exercise 6: list`"
   ]
  },
  {
   "cell_type": "markdown",
   "metadata": {},
   "source": [
    "Buat sebuah program yang meminta pengguna memasukkan 5 nama buah dan menyimpannya dalam sebuah list. Tampilkan daftar buah tersebut dalam urutan terbalik."
   ]
  },
  {
   "cell_type": "code",
   "execution_count": 10,
   "metadata": {},
   "outputs": [
    {
     "name": "stdout",
     "output_type": "stream",
     "text": [
      "Before reverse:  ['Apple', 'Banana', 'Dragon Fruit', 'Mango', 'Strawberry']\n",
      "\n",
      "After reverse:  ['Strawberry', 'Mango', 'Dragon Fruit', 'Banana', 'Apple']\n"
     ]
    }
   ],
   "source": [
    "def revers(fruits):\n",
    "  reverse_fruit = fruits[::-1]\n",
    "  return reverse_fruit\n",
    "\n",
    "fruits = ['Apple', 'Banana', 'Dragon Fruit', 'Mango', 'Strawberry']\n",
    "print('Before reverse: ', fruits)\n",
    "print()\n",
    "print('After reverse: ',revers(fruits))"
   ]
  },
  {
   "cell_type": "markdown",
   "metadata": {},
   "source": [
    "### `Exercise 7: dictionary` "
   ]
  },
  {
   "cell_type": "markdown",
   "metadata": {},
   "source": [
    "Buat sebuah kamus (dictionary) yang berisi nama buah sebagai kunci dan harga buah sebagai nilai. Tampilkan semua nama buah dan harga dalam format berikut:\n",
    "\n",
    "- Nama: Apel, Harga: 5000\n",
    "- Nama: Mangga, Harga: 700010\n"
   ]
  },
  {
   "cell_type": "code",
   "execution_count": 11,
   "metadata": {},
   "outputs": [
    {
     "name": "stdout",
     "output_type": "stream",
     "text": [
      "Nama: Apel, Harga: 5000\n",
      "Nama: Mangga, Harga: 7000\n"
     ]
    }
   ],
   "source": [
    "fruits_dict = {'Nama': ['Apel','Mangga'],\n",
    "               'Harga': ['5000', '7000']}\n",
    "\n",
    "# print(fruits_dict['Nama'][0][0])\n",
    "print(f\"Nama: {fruits_dict['Nama'][0]}, Harga: {fruits_dict['Harga'][0]}\")\n",
    "print(f\"Nama: {fruits_dict['Nama'][1]}, Harga: {fruits_dict['Harga'][1]}\")"
   ]
  },
  {
   "cell_type": "markdown",
   "metadata": {},
   "source": [
    "### `Exercise 8: boolean` "
   ]
  },
  {
   "cell_type": "markdown",
   "metadata": {},
   "source": [
    "Buat sebuah fungsi bernama is_even(n) yang menerima satu argumen berupa bilangan bulat n dan mengembalikan True jika bilangan tersebut genap, dan False jika ganjil."
   ]
  },
  {
   "cell_type": "code",
   "execution_count": 12,
   "metadata": {},
   "outputs": [
    {
     "name": "stdout",
     "output_type": "stream",
     "text": [
      "Number 3 is False even\n"
     ]
    }
   ],
   "source": [
    "def is_even(n):\n",
    "  if n == 0 or n == 1:\n",
    "    return False\n",
    "  elif n % 2 == 0:\n",
    "    return True\n",
    "  else:\n",
    "    return False\n",
    "\n",
    "n_val = int(input('Input number: '))\n",
    "res = is_even(n_val)\n",
    "print(f\"Number {n_val} is {res} even\")"
   ]
  },
  {
   "cell_type": "markdown",
   "metadata": {},
   "source": [
    "### `Exercise 9: Module`"
   ]
  },
  {
   "cell_type": "markdown",
   "metadata": {},
   "source": [
    "1. Buat sebuah modul bernama math_operations.py\n",
    "2. Isi fungsi-fungsi untuk penjumlahan, pengurangan, perkalian, dan pembagian dua angka\n",
    "3. Buat program utama yang mengimpor modul tersebut\n",
    "4. Gunakan untuk melakukan operasi pada dua bilangan yang dimasukkan oleh pengguna.\n"
   ]
  },
  {
   "cell_type": "code",
   "execution_count": 13,
   "metadata": {},
   "outputs": [
    {
     "name": "stdout",
     "output_type": "stream",
     "text": [
      "Addition\t:  4\n",
      "Subtitution\t:  0\n",
      "Multiply\t:  4\n",
      "Division\t:  1.0\n"
     ]
    }
   ],
   "source": [
    "import Exercise_9_Module as modul\n",
    "\n",
    "add = modul.addition(2, 2)\n",
    "sub = modul.subtition(2, 2)\n",
    "mul = modul.multiplication(2,2)\n",
    "div = modul.division(2,2)\n",
    "\n",
    "print('Addition\\t: ', add)\n",
    "print('Subtitution\\t: ', sub)\n",
    "print('Multiply\\t: ', mul)\n",
    "print('Division\\t: ', div)"
   ]
  },
  {
   "cell_type": "markdown",
   "metadata": {},
   "source": [
    "## `Exercise 10: Petualangan di Pulau Misterius`\n"
   ]
  },
  {
   "cell_type": "markdown",
   "metadata": {},
   "source": [
    "Kamu terdampar di sebuah pulau misterius setelah kapal yang kamu tumpangi terkena badai besar. Pulau ini penuh dengan teka-teki dan tantangan yang harus kamu pecahkan untuk bisa kembali pulang. Untuk bertahan hidup dan mencari cara pulang, kamu perlu membuat sebuah program Python yang bisa membantumu dalam petualangan ini. Ikuti langkah-langkah berikut dan selesaikan setiap tugas untuk membuka jalan pulang!"
   ]
  },
  {
   "cell_type": "markdown",
   "metadata": {},
   "source": [
    "### `Exercise 10-1: Inventaris Barang●`\n"
   ]
  },
  {
   "cell_type": "markdown",
   "metadata": {},
   "source": [
    "Buat sebuah list bernama inventory untuk menyimpan barang-barang yang kamu temukan di pulau. Awalnya, inventory berisi: [\"pisau\", \"peta\", \"kompas\"]."
   ]
  },
  {
   "cell_type": "code",
   "execution_count": 14,
   "metadata": {},
   "outputs": [],
   "source": [
    "inventory = [\"pisau\", \"peta\", \"kompas\"]"
   ]
  },
  {
   "cell_type": "markdown",
   "metadata": {},
   "source": [
    "#### `Exercise 10-2: Menemukan Buah di Hutan`"
   ]
  },
  {
   "cell_type": "markdown",
   "metadata": {},
   "source": [
    "- Di hutan, kamu menemukan beberapa buah. \n",
    "- Buat fungsi bernama temukan_buah() yang meminta pengguna memasukkan 3 nama buah yang berbeda dan tambahkan buah-buah tersebut ke dalam inventory. ●Cetak inventory setelah ditambahkan.\n"
   ]
  },
  {
   "cell_type": "code",
   "execution_count": 15,
   "metadata": {},
   "outputs": [
    {
     "data": {
      "text/plain": [
       "['pisau', 'peta', 'kompas', 'Apple', 'Banana', 'cerry']"
      ]
     },
     "execution_count": 15,
     "metadata": {},
     "output_type": "execute_result"
    }
   ],
   "source": [
    "def temukan_buah(inventory):\n",
    "  for new_items in range(3):\n",
    "    new_fruit = input('Input new fruits')\n",
    "    inventory.append(new_fruit)\n",
    "  return inventory\n",
    "\n",
    "inventory = temukan_buah(inventory)\n",
    "inventory"
   ]
  },
  {
   "cell_type": "markdown",
   "metadata": {},
   "source": [
    "### `Exercise 10-3: Menghadapi Hewan Buas`"
   ]
  },
  {
   "cell_type": "markdown",
   "metadata": {},
   "source": [
    "- Saat menjelajah, kamu bertemu dengan hewan buas! \n",
    "- Buat sebuah fungsi bernama hadapi_hewan(keberanian) yang menerima sebuah parameter keberanian (integer dari 1-10). \n",
    "  - Jika keberanian lebih besar dari 7, tampilkan pesan \"Kamu berhasil mengusir hewan buas!\" dan  \n",
    "    - tambahkan \"taring hewan\" ke dalam inventory. \n",
    "  - Jika tidak, tampilkan \"Kamu terluka, tapi berhasil melarikan diri!\" dan \n",
    "    - kurangi nilai keberanian sebesar 2. Tampilkan nilai keberanian yang baru.\n"
   ]
  },
  {
   "cell_type": "code",
   "execution_count": 18,
   "metadata": {},
   "outputs": [
    {
     "name": "stdout",
     "output_type": "stream",
     "text": [
      "Kamu berhasil mengusir hewan buas!\n"
     ]
    }
   ],
   "source": [
    "def hadapi_hewan(keberanian, inventory):\n",
    "  if keberanian > 7:\n",
    "    print('Kamu berhasil mengusir hewan buas!')\n",
    "    inventory.append('taring hewan')\n",
    "  else:\n",
    "    print('Kamu terluka, tapi berhasil melarikan diri!')\n",
    "    keberanian -= 2 \n",
    "\n",
    "  return inventory\n",
    "keberanian = int(input('Input your courage: '))\n",
    "inventory = hadapi_hewan(keberanian=keberanian, inventory=inventory)"
   ]
  },
  {
   "cell_type": "markdown",
   "metadata": {},
   "source": [
    "### `Exercise 10-4: Menyeberangi Sungai`\n"
   ]
  },
  {
   "cell_type": "markdown",
   "metadata": {},
   "source": [
    "- Kamu menemukan sebuah sungai yang harus diseberangi. \n",
    "- Buat sebuah fungsi menyeberang_sungai(nama, kekuatan) yang meminta nama pengguna dan kekuatan fisik (sebagai integer).\n",
    "  - Jika kekuatan lebih dari 5, tampilkan pesan \"Kamu berhasil menyeberangi sungai, {nama}!\". \n",
    "  - Jika tidak, tampilkan \"Kamu harus mencari jalan lain, {nama}.\" dan \n",
    "    - tambahkan \"rakit\" ke dalam inventory."
   ]
  },
  {
   "cell_type": "code",
   "execution_count": 19,
   "metadata": {},
   "outputs": [
    {
     "name": "stdout",
     "output_type": "stream",
     "text": [
      "Kamu berhasil mencari jalan lain, Albert.\n"
     ]
    },
    {
     "data": {
      "text/plain": [
       "['pisau',\n",
       " 'peta',\n",
       " 'kompas',\n",
       " 'Apple',\n",
       " 'Banana',\n",
       " 'cerry',\n",
       " 'taring hewan',\n",
       " 'rakit']"
      ]
     },
     "execution_count": 19,
     "metadata": {},
     "output_type": "execute_result"
    }
   ],
   "source": [
    "def menyebrang_sungai(name, power, inventory):\n",
    "  if power > 5 :\n",
    "    print(f'Kamu berhasil menyebrangi sungai, {name}!')\n",
    "  else:\n",
    "    print(f'Kamu berhasil mencari jalan lain, {name}.')\n",
    "    inventory.append('rakit')\n",
    "\n",
    "  return inventory\n",
    "\n",
    "name = input('input your name')\n",
    "power = int(input('Input your power'))\n",
    "inventory = menyebrang_sungai(name=name, power=power, inventory=inventory)\n",
    "inventory"
   ]
  },
  {
   "cell_type": "markdown",
   "metadata": {},
   "source": [
    "### `Exercise 10-5: Membuka Pintu Gua Rahasia`"
   ]
  },
  {
   "cell_type": "markdown",
   "metadata": {},
   "source": [
    "- Di dalam gua, kamu menemukan sebuah pintu yang hanya bisa dibuka dengan memasukkan kode angka. \n",
    "- Buat sebuah fungsi buka_pintu() yang meminta pengguna memasukkan angka.\n",
    "  - Jika angka tersebut adalah faktor dari 120 (contoh: 2, 3, 4, dll.), tampilkan \"Pintu terbuka!\". \n",
    "  - Jika tidak, tampilkan \"Kode salah. Coba lagi!\""
   ]
  },
  {
   "cell_type": "code",
   "execution_count": 20,
   "metadata": {},
   "outputs": [
    {
     "name": "stdout",
     "output_type": "stream",
     "text": [
      "Pintu terbuka!\n"
     ]
    }
   ],
   "source": [
    "def buka_pintu(number):\n",
    "  if 120 % number == 0 :\n",
    "    print('Pintu terbuka!')\n",
    "  else:\n",
    "    print('Kode salah. Coba lagi')\n",
    "\n",
    "number = int(input('Input number: '))\n",
    "buka_pintu(number=number)"
   ]
  },
  {
   "cell_type": "markdown",
   "metadata": {},
   "source": [
    "### `Exercise 10-6: Menyusun Rencana Pulang`\n"
   ]
  },
  {
   "cell_type": "markdown",
   "metadata": {},
   "source": [
    "- Sekarang kamu harus membuat rencana untuk keluar dari pulau. Buat sebuah kamus (dictionary) bernama rencana_pulang yang berisi informasi seperti berikut:\n",
    "  - __rencana_pulang = {__    \n",
    "      - __\"hari\": 3,__    \n",
    "      - __\"barang_diperlukan\": [\"kompas\", \"peta\", \"rakit\"],__    \n",
    "      - __\"makanan\": 5  # jumlah buah yang ditemukan}__\n",
    "- Buat sebuah fungsi cek_inventaris() yang memeriksa apakah semua barang dalam barang_diperlukan ada di dalam inventory. \n",
    "  - Jika semua ada, tampilkan \"Rencana bisa dilaksanakan!\" dan \n",
    "  - kurangi jumlah makanan di rencana_pulang setiap hari hingga habis menggunakan perulangan while. \n",
    "- Jika tidak, tampilkan \"Kamu perlu mencari lebih banyak barang!\""
   ]
  },
  {
   "cell_type": "code",
   "execution_count": 21,
   "metadata": {},
   "outputs": [],
   "source": [
    "rencana_pulang = {\n",
    "  \"hari\" : 3,\n",
    "  \"barang_diperlukan\": ['kompas','peta','rakit'],\n",
    "  \"makanan\": 5\n",
    "}"
   ]
  },
  {
   "cell_type": "code",
   "execution_count": 22,
   "metadata": {},
   "outputs": [
    {
     "name": "stdout",
     "output_type": "stream",
     "text": [
      "Rencana bisa dilaksanakan!\n",
      "Hari 1: Makanan tersisa: 4\n",
      "Hari 2: Makanan tersisa: 3\n",
      "Hari 3: Makanan tersisa: 2\n",
      "Hari 4: Makanan tersisa: 1\n",
      "Hari 5: Makanan tersisa: 0\n",
      "Semua makanan telah habis.\n"
     ]
    }
   ],
   "source": [
    "\n",
    "def cek_inventaris(rencana_pulang, inventory):\n",
    "    for item in rencana_pulang[\"barang_diperlukan\"]:\n",
    "        if item not in inventory:\n",
    "            print(\"Kamu perlu mencari lebih banyak barang!\")\n",
    "            return  \n",
    "    print(\"Rencana bisa dilaksanakan!\")\n",
    "\n",
    "    hari = 1 \n",
    "    while rencana_pulang[\"makanan\"] > 0:\n",
    "        rencana_pulang[\"makanan\"] -= 1  \n",
    "        print(f\"Hari {hari}: Makanan tersisa: {rencana_pulang['makanan']}\")\n",
    "        hari += 1  \n",
    "    print(\"Semua makanan telah habis.\")\n",
    "\n",
    "cek_inventaris(rencana_pulang, inventory)"
   ]
  },
  {
   "cell_type": "markdown",
   "metadata": {},
   "source": [
    "### `Exercise 10-7: Modul Bantuan`"
   ]
  },
  {
   "cell_type": "markdown",
   "metadata": {},
   "source": [
    "- Buat sebuah modul bernama bantuan.py \n",
    "- Isi fungsi untuk menghitung total nilai barang dalam inventory. \n",
    "- Setiap barang memiliki nilai berbeda (contoh: \"pisau\" = 10, \"peta\" = 15, \"kompas\" = 8, dll.). \n",
    "- Impor modul ini di program utama dan \n",
    "- tampilkan total nilai barang yang kamu kumpulkan.\n"
   ]
  },
  {
   "cell_type": "markdown",
   "metadata": {},
   "source": [
    "### Example"
   ]
  },
  {
   "cell_type": "code",
   "execution_count": 23,
   "metadata": {},
   "outputs": [],
   "source": [
    "new_inventory = {\n",
    "    \"pisau\": 10,\n",
    "    \"peta\": 15,\n",
    "    \"kompas\": 8,\n",
    "}"
   ]
  },
  {
   "cell_type": "code",
   "execution_count": 24,
   "metadata": {},
   "outputs": [
    {
     "name": "stdout",
     "output_type": "stream",
     "text": [
      "Total:  33\n"
     ]
    }
   ],
   "source": [
    "from bantuan import count_items\n",
    "\n",
    "total_items = count_items(new_inventory)\n",
    "\n",
    "print(\"Total: \", total_items)"
   ]
  },
  {
   "cell_type": "markdown",
   "metadata": {},
   "source": [
    "### `Exercise 10-8: Menghadapi Akhir Petualangan`"
   ]
  },
  {
   "cell_type": "markdown",
   "metadata": {},
   "source": [
    "- Buat sebuah fungsi akhir_petualangan(keberhasilan) yang menerima parameter keberhasilan (boolean). \n",
    "  - Jika keberhasilan bernilai True, tampilkan \"Kamu berhasil pulang dengan selamat! Petualanganmu berakhir dengan bahagia.\" \n",
    "  - Jika tidak, tampilkan \"Kamu belum bisa pulang. Tetaplah bertahan dan coba lagi.\"\n",
    "\n",
    "  Selamat bertualang dan semoga berhasil pulang!"
   ]
  },
  {
   "cell_type": "code",
   "execution_count": 25,
   "metadata": {},
   "outputs": [
    {
     "name": "stdout",
     "output_type": "stream",
     "text": [
      "Kamu berhasil pulang dengan selamat! Petualanganmu berakhir dengan bahagia.\n"
     ]
    }
   ],
   "source": [
    "def akhir_petualangan(keberhasilan):\n",
    "    if keberhasilan == True:\n",
    "        print('Kamu berhasil pulang dengan selamat! Petualanganmu berakhir dengan bahagia.')\n",
    "    else:\n",
    "        print('Kamu belum bisa pulang. Tetaplah bertahan dan coba lagi.')\n",
    "\n",
    "akhir_petualangan(keberhasilan=True)"
   ]
  }
 ],
 "metadata": {
  "kernelspec": {
   "display_name": "Python 3",
   "language": "python",
   "name": "python3"
  },
  "language_info": {
   "codemirror_mode": {
    "name": "ipython",
    "version": 3
   },
   "file_extension": ".py",
   "mimetype": "text/x-python",
   "name": "python",
   "nbconvert_exporter": "python",
   "pygments_lexer": "ipython3",
   "version": "3.11.2"
  }
 },
 "nbformat": 4,
 "nbformat_minor": 2
}
