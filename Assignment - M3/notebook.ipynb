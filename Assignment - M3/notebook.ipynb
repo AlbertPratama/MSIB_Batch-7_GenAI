{
 "cells": [
  {
   "cell_type": "code",
   "execution_count": 2,
   "metadata": {},
   "outputs": [],
   "source": [
    "import pandas as pd\n",
    "import numpy as np\n",
    "import matplotlib.pyplot as plt\n",
    "import seaborn as sns"
   ]
  },
  {
   "cell_type": "code",
   "execution_count": 3,
   "metadata": {},
   "outputs": [
    {
     "data": {
      "text/html": [
       "<div>\n",
       "<style scoped>\n",
       "    .dataframe tbody tr th:only-of-type {\n",
       "        vertical-align: middle;\n",
       "    }\n",
       "\n",
       "    .dataframe tbody tr th {\n",
       "        vertical-align: top;\n",
       "    }\n",
       "\n",
       "    .dataframe thead th {\n",
       "        text-align: right;\n",
       "    }\n",
       "</style>\n",
       "<table border=\"1\" class=\"dataframe\">\n",
       "  <thead>\n",
       "    <tr style=\"text-align: right;\">\n",
       "      <th></th>\n",
       "      <th>NoLink</th>\n",
       "      <th>Provinsi</th>\n",
       "      <th>KotaKab</th>\n",
       "      <th>Link</th>\n",
       "      <th>TipeFaskes</th>\n",
       "      <th>No</th>\n",
       "      <th>KodeFaskes</th>\n",
       "      <th>NamaFaskes</th>\n",
       "      <th>LatLongFaskes</th>\n",
       "      <th>AlamatFaskes</th>\n",
       "      <th>TelpFaskes</th>\n",
       "    </tr>\n",
       "  </thead>\n",
       "  <tbody>\n",
       "    <tr>\n",
       "      <th>0</th>\n",
       "      <td>0</td>\n",
       "      <td>Nanggroe Aceh Darussalam</td>\n",
       "      <td>Kode Faskes dan Alamat Rumah Sakit BPJS di Kot...</td>\n",
       "      <td>https://lovia.life/id/health/bpjs/area/kota-la...</td>\n",
       "      <td>Rumah Sakit</td>\n",
       "      <td>1</td>\n",
       "      <td>0001R001</td>\n",
       "      <td>RSU Cut Nyak Dhien\\r\\n                    \\r\\n...</td>\n",
       "      <td>http://maps.google.co.id/?q=4.488058,97.947963</td>\n",
       "      <td>Jl. Tm Bahrum No. 1 Langsa</td>\n",
       "      <td>\\r\\n 0641-0621039\\r\\n</td>\n",
       "    </tr>\n",
       "    <tr>\n",
       "      <th>1</th>\n",
       "      <td>0</td>\n",
       "      <td>Nanggroe Aceh Darussalam</td>\n",
       "      <td>Kode Faskes dan Alamat Rumah Sakit BPJS di Kot...</td>\n",
       "      <td>https://lovia.life/id/health/bpjs/area/kota-la...</td>\n",
       "      <td>Rumah Sakit</td>\n",
       "      <td>2</td>\n",
       "      <td>0001R004</td>\n",
       "      <td>RSU Cut Meutia Langsa\\r\\n                    \\...</td>\n",
       "      <td>http://maps.google.co.id/?q=4.488088,97.947781</td>\n",
       "      <td>Jl.Garuda Kebun Baru Langsa</td>\n",
       "      <td>\\r\\n 0641- 4840076\\r\\n</td>\n",
       "    </tr>\n",
       "    <tr>\n",
       "      <th>2</th>\n",
       "      <td>0</td>\n",
       "      <td>Nanggroe Aceh Darussalam</td>\n",
       "      <td>Kode Faskes dan Alamat Rumah Sakit BPJS di Kot...</td>\n",
       "      <td>https://lovia.life/id/health/bpjs/area/kota-la...</td>\n",
       "      <td>Rumah Sakit</td>\n",
       "      <td>3</td>\n",
       "      <td>0105R001</td>\n",
       "      <td>RSUD Langsa\\r\\n                    \\r\\n       ...</td>\n",
       "      <td>http://maps.google.co.id/?q=4.472208,97.975533</td>\n",
       "      <td>Jln.A.Yani No. 1 Langsa</td>\n",
       "      <td>\\r\\n 0641-22051\\r\\n</td>\n",
       "    </tr>\n",
       "    <tr>\n",
       "      <th>3</th>\n",
       "      <td>0</td>\n",
       "      <td>Nanggroe Aceh Darussalam</td>\n",
       "      <td>Kode Faskes dan Alamat Rumah Sakit BPJS di Kot...</td>\n",
       "      <td>https://lovia.life/id/health/bpjs/area/kota-la...</td>\n",
       "      <td>Rumah Sakit</td>\n",
       "      <td>4</td>\n",
       "      <td>0105R013</td>\n",
       "      <td>RSU Ummi \\r\\n                    \\r\\n         ...</td>\n",
       "      <td>http://maps.google.co.id/?q=4.470376,97.991915</td>\n",
       "      <td>Jln. Prof. A. Madjid Ibrahim</td>\n",
       "      <td>\\r\\n 0641-22886\\r\\n</td>\n",
       "    </tr>\n",
       "    <tr>\n",
       "      <th>4</th>\n",
       "      <td>0</td>\n",
       "      <td>Nanggroe Aceh Darussalam</td>\n",
       "      <td>Kode Faskes dan Alamat Rumah Sakit BPJS di Kot...</td>\n",
       "      <td>https://lovia.life/id/health/bpjs/area/kota-la...</td>\n",
       "      <td>Puskesmas</td>\n",
       "      <td>1</td>\n",
       "      <td>00010001</td>\n",
       "      <td>Langsa Lama\\r\\n                    \\r\\n       ...</td>\n",
       "      <td>http://maps.google.co.id/?q=4.478172,97.949988</td>\n",
       "      <td>Gampong Meurandeh Dayah</td>\n",
       "      <td>\\r\\n 0641-064121218\\r\\n</td>\n",
       "    </tr>\n",
       "  </tbody>\n",
       "</table>\n",
       "</div>"
      ],
      "text/plain": [
       "   NoLink                  Provinsi  \\\n",
       "0       0  Nanggroe Aceh Darussalam   \n",
       "1       0  Nanggroe Aceh Darussalam   \n",
       "2       0  Nanggroe Aceh Darussalam   \n",
       "3       0  Nanggroe Aceh Darussalam   \n",
       "4       0  Nanggroe Aceh Darussalam   \n",
       "\n",
       "                                             KotaKab  \\\n",
       "0  Kode Faskes dan Alamat Rumah Sakit BPJS di Kot...   \n",
       "1  Kode Faskes dan Alamat Rumah Sakit BPJS di Kot...   \n",
       "2  Kode Faskes dan Alamat Rumah Sakit BPJS di Kot...   \n",
       "3  Kode Faskes dan Alamat Rumah Sakit BPJS di Kot...   \n",
       "4  Kode Faskes dan Alamat Rumah Sakit BPJS di Kot...   \n",
       "\n",
       "                                                Link   TipeFaskes No  \\\n",
       "0  https://lovia.life/id/health/bpjs/area/kota-la...  Rumah Sakit  1   \n",
       "1  https://lovia.life/id/health/bpjs/area/kota-la...  Rumah Sakit  2   \n",
       "2  https://lovia.life/id/health/bpjs/area/kota-la...  Rumah Sakit  3   \n",
       "3  https://lovia.life/id/health/bpjs/area/kota-la...  Rumah Sakit  4   \n",
       "4  https://lovia.life/id/health/bpjs/area/kota-la...    Puskesmas  1   \n",
       "\n",
       "  KodeFaskes                                         NamaFaskes  \\\n",
       "0   0001R001  RSU Cut Nyak Dhien\\r\\n                    \\r\\n...   \n",
       "1   0001R004  RSU Cut Meutia Langsa\\r\\n                    \\...   \n",
       "2   0105R001  RSUD Langsa\\r\\n                    \\r\\n       ...   \n",
       "3   0105R013  RSU Ummi \\r\\n                    \\r\\n         ...   \n",
       "4   00010001  Langsa Lama\\r\\n                    \\r\\n       ...   \n",
       "\n",
       "                                    LatLongFaskes  \\\n",
       "0  http://maps.google.co.id/?q=4.488058,97.947963   \n",
       "1  http://maps.google.co.id/?q=4.488088,97.947781   \n",
       "2  http://maps.google.co.id/?q=4.472208,97.975533   \n",
       "3  http://maps.google.co.id/?q=4.470376,97.991915   \n",
       "4  http://maps.google.co.id/?q=4.478172,97.949988   \n",
       "\n",
       "                   AlamatFaskes               TelpFaskes  \n",
       "0    Jl. Tm Bahrum No. 1 Langsa    \\r\\n 0641-0621039\\r\\n  \n",
       "1   Jl.Garuda Kebun Baru Langsa   \\r\\n 0641- 4840076\\r\\n  \n",
       "2       Jln.A.Yani No. 1 Langsa      \\r\\n 0641-22051\\r\\n  \n",
       "3  Jln. Prof. A. Madjid Ibrahim      \\r\\n 0641-22886\\r\\n  \n",
       "4       Gampong Meurandeh Dayah  \\r\\n 0641-064121218\\r\\n  "
      ]
     },
     "execution_count": 3,
     "metadata": {},
     "output_type": "execute_result"
    }
   ],
   "source": [
    "df = pd.read_csv('./Data Faskes BPJS 2019.csv')\n",
    "df.head()"
   ]
  },
  {
   "cell_type": "code",
   "execution_count": 4,
   "metadata": {},
   "outputs": [
    {
     "data": {
      "text/plain": [
       "Index(['NoLink', 'Provinsi', 'KotaKab', 'Link', 'TipeFaskes', 'No',\n",
       "       'KodeFaskes', 'NamaFaskes', 'LatLongFaskes', 'AlamatFaskes',\n",
       "       'TelpFaskes'],\n",
       "      dtype='object')"
      ]
     },
     "execution_count": 4,
     "metadata": {},
     "output_type": "execute_result"
    }
   ],
   "source": [
    "df.columns"
   ]
  },
  {
   "cell_type": "code",
   "execution_count": 5,
   "metadata": {},
   "outputs": [
    {
     "data": {
      "text/plain": [
       "NoLink           0\n",
       "Provinsi         0\n",
       "KotaKab          0\n",
       "Link             0\n",
       "TipeFaskes       0\n",
       "No               0\n",
       "KodeFaskes       0\n",
       "NamaFaskes       0\n",
       "LatLongFaskes    0\n",
       "AlamatFaskes     0\n",
       "TelpFaskes       0\n",
       "dtype: int64"
      ]
     },
     "execution_count": 5,
     "metadata": {},
     "output_type": "execute_result"
    }
   ],
   "source": [
    "df.isnull().sum()"
   ]
  },
  {
   "cell_type": "code",
   "execution_count": 6,
   "metadata": {},
   "outputs": [
    {
     "data": {
      "text/plain": [
       "(29157, 11)"
      ]
     },
     "execution_count": 6,
     "metadata": {},
     "output_type": "execute_result"
    }
   ],
   "source": [
    "df.shape"
   ]
  },
  {
   "cell_type": "code",
   "execution_count": 7,
   "metadata": {},
   "outputs": [
    {
     "data": {
      "text/plain": [
       "0"
      ]
     },
     "execution_count": 7,
     "metadata": {},
     "output_type": "execute_result"
    }
   ],
   "source": [
    "df.duplicated().sum()"
   ]
  }
 ],
 "metadata": {
  "kernelspec": {
   "display_name": "Python 3",
   "language": "python",
   "name": "python3"
  },
  "language_info": {
   "codemirror_mode": {
    "name": "ipython",
    "version": 3
   },
   "file_extension": ".py",
   "mimetype": "text/x-python",
   "name": "python",
   "nbconvert_exporter": "python",
   "pygments_lexer": "ipython3",
   "version": "3.11.2"
  }
 },
 "nbformat": 4,
 "nbformat_minor": 2
}
